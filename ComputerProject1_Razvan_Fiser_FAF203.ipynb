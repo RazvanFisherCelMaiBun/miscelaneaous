{
 "cells": [
  {
   "cell_type": "markdown",
   "metadata": {},
   "source": [
    "# Computer Project 1\n",
    "Răzvan Fișer FAF 203 "
   ]
  },
  {
   "cell_type": "code",
   "execution_count": 18,
   "metadata": {},
   "outputs": [],
   "source": [
    "import numpy as np\n",
    "import pandas as pd\n",
    "import matplotlib.pyplot as plt\n",
    "import math"
   ]
  },
  {
   "cell_type": "markdown",
   "metadata": {},
   "source": [
    "### Assignment 1\n",
    "The first row in the table contains the aproximation for the <b>golden ratio</b> and the second row the error at each step. We observe that the error shing by a factor of about $2$ at each iterration. "
   ]
  },
  {
   "cell_type": "code",
   "execution_count": 19,
   "metadata": {},
   "outputs": [],
   "source": [
    "# Assignment 1\n",
    "\n",
    "def fibNum(n):\n",
    "    if (n == 1) or (n == 2):\n",
    "        return 1\n",
    "    a, b = 1, 1\n",
    "    for i in range(n - 2):\n",
    "        num = a + b\n",
    "        a = b\n",
    "        b = num\n",
    "    return num\n",
    "    \n",
    "    \n",
    "def R_n(terms):\n",
    "    output = np.zeros((1, terms))\n",
    "    for i in range(terms):\n",
    "        output[0, i] = fibNum(i + 2) / fibNum(i + 1)\n",
    "    errors = (1 + np.sqrt(5)) / 2 - output\n",
    "    return pd.DataFrame(np.append(output, errors, axis=0))"
   ]
  },
  {
   "cell_type": "code",
   "execution_count": 20,
   "metadata": {},
   "outputs": [
    {
     "data": {
      "text/html": [
       "<div>\n",
       "<style scoped>\n",
       "    .dataframe tbody tr th:only-of-type {\n",
       "        vertical-align: middle;\n",
       "    }\n",
       "\n",
       "    .dataframe tbody tr th {\n",
       "        vertical-align: top;\n",
       "    }\n",
       "\n",
       "    .dataframe thead th {\n",
       "        text-align: right;\n",
       "    }\n",
       "</style>\n",
       "<table border=\"1\" class=\"dataframe\">\n",
       "  <thead>\n",
       "    <tr style=\"text-align: right;\">\n",
       "      <th></th>\n",
       "      <th>0</th>\n",
       "      <th>1</th>\n",
       "      <th>2</th>\n",
       "      <th>3</th>\n",
       "      <th>4</th>\n",
       "      <th>5</th>\n",
       "      <th>6</th>\n",
       "      <th>7</th>\n",
       "      <th>8</th>\n",
       "      <th>9</th>\n",
       "      <th>...</th>\n",
       "      <th>30</th>\n",
       "      <th>31</th>\n",
       "      <th>32</th>\n",
       "      <th>33</th>\n",
       "      <th>34</th>\n",
       "      <th>35</th>\n",
       "      <th>36</th>\n",
       "      <th>37</th>\n",
       "      <th>38</th>\n",
       "      <th>39</th>\n",
       "    </tr>\n",
       "  </thead>\n",
       "  <tbody>\n",
       "    <tr>\n",
       "      <th>0</th>\n",
       "      <td>1.000000</td>\n",
       "      <td>2.000000</td>\n",
       "      <td>1.500000</td>\n",
       "      <td>1.666667</td>\n",
       "      <td>1.600000</td>\n",
       "      <td>1.625000</td>\n",
       "      <td>1.615385</td>\n",
       "      <td>1.619048</td>\n",
       "      <td>1.617647</td>\n",
       "      <td>1.618182</td>\n",
       "      <td>...</td>\n",
       "      <td>1.618034e+00</td>\n",
       "      <td>1.618034e+00</td>\n",
       "      <td>1.618034e+00</td>\n",
       "      <td>1.618034e+00</td>\n",
       "      <td>1.618034e+00</td>\n",
       "      <td>1.618034e+00</td>\n",
       "      <td>1.618034e+00</td>\n",
       "      <td>1.618034e+00</td>\n",
       "      <td>1.618034e+00</td>\n",
       "      <td>1.618034</td>\n",
       "    </tr>\n",
       "    <tr>\n",
       "      <th>1</th>\n",
       "      <td>0.618034</td>\n",
       "      <td>-0.381966</td>\n",
       "      <td>0.118034</td>\n",
       "      <td>-0.048633</td>\n",
       "      <td>0.018034</td>\n",
       "      <td>-0.006966</td>\n",
       "      <td>0.002649</td>\n",
       "      <td>-0.001014</td>\n",
       "      <td>0.000387</td>\n",
       "      <td>-0.000148</td>\n",
       "      <td>...</td>\n",
       "      <td>2.466916e-13</td>\n",
       "      <td>-9.414691e-14</td>\n",
       "      <td>3.597123e-14</td>\n",
       "      <td>-1.376677e-14</td>\n",
       "      <td>5.329071e-15</td>\n",
       "      <td>-1.998401e-15</td>\n",
       "      <td>8.881784e-16</td>\n",
       "      <td>-2.220446e-16</td>\n",
       "      <td>2.220446e-16</td>\n",
       "      <td>0.000000</td>\n",
       "    </tr>\n",
       "  </tbody>\n",
       "</table>\n",
       "<p>2 rows × 40 columns</p>\n",
       "</div>"
      ],
      "text/plain": [
       "         0         1         2         3         4         5         6   \\\n",
       "0  1.000000  2.000000  1.500000  1.666667  1.600000  1.625000  1.615385   \n",
       "1  0.618034 -0.381966  0.118034 -0.048633  0.018034 -0.006966  0.002649   \n",
       "\n",
       "         7         8         9   ...            30            31  \\\n",
       "0  1.619048  1.617647  1.618182  ...  1.618034e+00  1.618034e+00   \n",
       "1 -0.001014  0.000387 -0.000148  ...  2.466916e-13 -9.414691e-14   \n",
       "\n",
       "             32            33            34            35            36  \\\n",
       "0  1.618034e+00  1.618034e+00  1.618034e+00  1.618034e+00  1.618034e+00   \n",
       "1  3.597123e-14 -1.376677e-14  5.329071e-15 -1.998401e-15  8.881784e-16   \n",
       "\n",
       "             37            38        39  \n",
       "0  1.618034e+00  1.618034e+00  1.618034  \n",
       "1 -2.220446e-16  2.220446e-16  0.000000  \n",
       "\n",
       "[2 rows x 40 columns]"
      ]
     },
     "execution_count": 20,
     "metadata": {},
     "output_type": "execute_result"
    }
   ],
   "source": [
    "R_n(40).head()"
   ]
  },
  {
   "cell_type": "markdown",
   "metadata": {},
   "source": [
    "### Assignment 2\n",
    "By computing the McLauren series for $e^t$, where $t$ is any function dependent on $x$ and then integrating, we obtain the follwoing formula for the Gauss Error Function: \n",
    "$$\\large P_n(x) = \\frac{t}{1 \\cdot 0!} - \\frac{t^3}{3 \\cdot 1!} + ... + \\frac{(-1)^n t^{2n + 1}}{(2n + 1)n!}$$\n",
    "We observe that this is a converging alternating series because the limit of the general term tends to 0 and each term gets consecutively smaller. Then, we know that $\\| R_n \\| \\leq b_{n+1}$. So, therefore, we introduce the restriction that \n",
    "$$\\large \\frac{x^{2n+3}}{(2n+3)(n+1)!} \\leq 10^{-5}$$ We iterate through possible values for $n$ until we have found the satisfactory value for the error:"
   ]
  },
  {
   "cell_type": "code",
   "execution_count": 27,
   "metadata": {},
   "outputs": [],
   "source": [
    "#Assignment 2\n",
    "\n",
    "def erfPoly(n, val):\n",
    "    coef = np.array([ ((-1) ** (i)) / (2 * i + 1) * 1 / math.factorial(i) for i in range(n)])\n",
    "    vals = np.array([val ** (2 * i + 1) for i in range(n)])\n",
    "    return np.sum(coef * vals) * 2 / np.sqrt(math.pi)\n",
    "\n",
    "def err2(n, x):\n",
    "    return x ** (2 * n + 3) / math.factorial(n + 1) * 1 / (2 * n + 3)"
   ]
  },
  {
   "cell_type": "code",
   "execution_count": 28,
   "metadata": {},
   "outputs": [
    {
     "name": "stdout",
     "output_type": "stream",
     "text": [
      "30\n"
     ]
    }
   ],
   "source": [
    "n = 0\n",
    "err = 10\n",
    "while(err >= 10**(-5)):\n",
    "    n += 1\n",
    "    err = err2(n, 3)\n",
    "print(n + 1)"
   ]
  },
  {
   "cell_type": "code",
   "execution_count": 29,
   "metadata": {},
   "outputs": [
    {
     "data": {
      "text/plain": [
       "[<matplotlib.lines.Line2D at 0x27c6c8bb850>]"
      ]
     },
     "execution_count": 29,
     "metadata": {},
     "output_type": "execute_result"
    },
    {
     "data": {
      "image/png": "[encoded data removed]",
      "text/plain": [
       "<Figure size 432x288 with 1 Axes>"
      ]
     },
     "metadata": {
      "needs_background": "light"
     },
     "output_type": "display_data"
    }
   ],
   "source": [
    "import matplotlib.pyplot as plt\n",
    "\n",
    "x = np.linspace(-3, 3, 100)\n",
    "y = np.array([erfPoly(30, i) for i in x])\n",
    "y2 = np.array([math.erf(i) for i in x])\n",
    "\n",
    "plt.axis([-4, 4, -2, 2])\n",
    "plt.plot(x, y)\n",
    "plt.plot(x, y2)"
   ]
  },
  {
   "cell_type": "markdown",
   "metadata": {},
   "source": [
    "### Assignment 3\n",
    "It would appear that the function has more than one root, however we know that this is false, because we can simplify it to $f(x) = (x-1)^7$, which only has one root. This is happening because of various rounding errors made by the computer."
   ]
  },
  {
   "cell_type": "code",
   "execution_count": 20,
   "metadata": {},
   "outputs": [],
   "source": [
    "#Assignment 3\n",
    "coef = np.array([(-1)**(i) * math.comb(7, i) for i in range(8)])\n",
    "def poly(coef, val):\n",
    "    poly = coef[0]\n",
    "    for i in coef[1:]:\n",
    "        poly = i + val*poly\n",
    "    return poly\n",
    "    "
   ]
  },
  {
   "cell_type": "code",
   "execution_count": 21,
   "metadata": {},
   "outputs": [
    {
     "data": {
      "text/plain": [
       "[<matplotlib.lines.Line2D at 0x1cac7ecb3d0>]"
      ]
     },
     "execution_count": 21,
     "metadata": {},
     "output_type": "execute_result"
    },
    {
     "data": {
      "image/png": "[encoded data removed]",
      "text/plain": [
       "<Figure size 432x288 with 1 Axes>"
      ]
     },
     "metadata": {
      "needs_background": "light"
     },
     "output_type": "display_data"
    }
   ],
   "source": [
    "x = np.arange(0.988, 1.012, 0.001)\n",
    "y = np.array([poly(coef, i) for i in x])\n",
    "\n",
    "plt.plot(x, y)"
   ]
  },
  {
   "cell_type": "markdown",
   "metadata": {},
   "source": [
    "### Assignment 4\n",
    "The errors occur because of loss of significance erros. We can compute them more exactly by using the following properties between roots: $$r_1 + r_2 = \\frac{-b}{a}$$ and $$r_1 \\cdot r_2 = \\frac{c}{a}$$"
   ]
  },
  {
   "cell_type": "code",
   "execution_count": 22,
   "metadata": {},
   "outputs": [],
   "source": [
    "#Assignment 4\n",
    "\n",
    "def roots(a, b, c):\n",
    "    return ((-b + np.sqrt(b**2 - 4*a*c)) / (2 * a), (-b - np.sqrt(b**2 - 4*a*c)) / (2 * a))"
   ]
  },
  {
   "cell_type": "code",
   "execution_count": 23,
   "metadata": {},
   "outputs": [
    {
     "data": {
      "text/plain": [
       "(-7.450580596923828e-09, -100000000.0)"
      ]
     },
     "execution_count": 23,
     "metadata": {},
     "output_type": "execute_result"
    }
   ],
   "source": [
    "roots(1, 1e8, 1)"
   ]
  },
  {
   "cell_type": "markdown",
   "metadata": {},
   "source": [
    "### Assignment 5\n",
    "???"
   ]
  },
  {
   "cell_type": "code",
   "execution_count": 24,
   "metadata": {},
   "outputs": [
    {
     "data": {
      "text/plain": [
       "array([ 0.00000000e+00,  0.00000000e+00, -5.55111512e-17,  0.00000000e+00,\n",
       "        0.00000000e+00, -1.11022302e-16, -1.11022302e-16,  0.00000000e+00,\n",
       "        0.00000000e+00,  0.00000000e+00])"
      ]
     },
     "execution_count": 24,
     "metadata": {},
     "output_type": "execute_result"
    }
   ],
   "source": [
    "#Assignment 5\n",
    "\n",
    "t = 0.1\n",
    "n = np.arange(1, 11)\n",
    "e = n / 10 - n * 0.1\n",
    "e"
   ]
  },
  {
   "cell_type": "markdown",
   "metadata": {},
   "source": [
    "### Assignment 6"
   ]
  },
  {
   "cell_type": "code",
   "execution_count": 30,
   "metadata": {},
   "outputs": [],
   "source": [
    "#Assignment 6\n",
    "\n",
    "def f(R):\n",
    "    return -1 / (19.01 + 273.15) + 1.129241 * 10**(-3) + 2.341077 * 10**(-4) * np.log(R) + 8.775468 * 10**(-8) * (np.log(R))**3\n",
    "\n",
    "def f1(R):\n",
    "    return -1 / (18.99 + 273.15) + 1.129241 * 10**(-3) + 2.341077 * 10**(-4) * np.log(R) + 8.775468 * 10**(-8) * (np.log(R))**3\n",
    "\n",
    "def f_prime(R):\n",
    "    return 2.341077 * 10**(-4) * 1 / (R) + 8.775468 * 10**(-8) * 3 * (np.log(R))**2 * 1 / (R)"
   ]
  },
  {
   "cell_type": "code",
   "execution_count": 31,
   "metadata": {},
   "outputs": [],
   "source": [
    "def Newton(xn):\n",
    "    x_1 = 0\n",
    "    temp = 0\n",
    "    while (abs(xn - temp) > 10**(-5)):\n",
    "        x_1 = xn - f(xn)/f_prime(xn)\n",
    "        #print(x_1 - xn)\n",
    "        temp = xn\n",
    "        xn = x_1\n",
    "    return x_1\n",
    "\n",
    "def Newton1(xn):\n",
    "    temp = 0\n",
    "    x_1 = 0\n",
    "    while (abs(xn - temp) > 10**(-5)):\n",
    "        x_1 = xn - f1(xn)/f_prime(xn)\n",
    "        #print(x_1 - xn)\n",
    "        temp = xn\n",
    "        xn = x_1\n",
    "    return x_1"
   ]
  },
  {
   "cell_type": "code",
   "execution_count": 32,
   "metadata": {},
   "outputs": [
    {
     "data": {
      "text/plain": [
       "13066.542623383364"
      ]
     },
     "execution_count": 32,
     "metadata": {},
     "output_type": "execute_result"
    }
   ],
   "source": [
    "Newton(15000)"
   ]
  },
  {
   "cell_type": "code",
   "execution_count": 33,
   "metadata": {},
   "outputs": [
    {
     "data": {
      "text/plain": [
       "13078.426633664936"
      ]
     },
     "execution_count": 33,
     "metadata": {},
     "output_type": "execute_result"
    }
   ],
   "source": [
    "Newton1(15000)"
   ]
  },
  {
   "cell_type": "markdown",
   "metadata": {},
   "source": [
    "### Assignment 7\n",
    "The algorithm converges slowly even though we gave it a starting point that is quite close to the root because the graph of the function is tangent to $y = 0$. I suppose the Aitken algorithm would make it converge faster, but I cannot implement it."
   ]
  },
  {
   "cell_type": "code",
   "execution_count": 2,
   "metadata": {},
   "outputs": [
    {
     "data": {
      "text/plain": [
       "[<matplotlib.lines.Line2D at 0x250af637a30>]"
      ]
     },
     "execution_count": 2,
     "metadata": {},
     "output_type": "execute_result"
    },
    {
     "data": {
      "image/png": "[encoded data removed]",
      "text/plain": [
       "<Figure size 432x288 with 1 Axes>"
      ]
     },
     "metadata": {
      "needs_background": "light"
     },
     "output_type": "display_data"
    }
   ],
   "source": [
    "#Assignment 7\n",
    "\n",
    "def g(x):\n",
    "    return np.exp(x - math.pi) + np.cos(x) - x + math.pi\n",
    "\n",
    "def g_prime(x):\n",
    "    return np.exp(x-math.pi) - np.sin(x) - 1\n",
    "\n",
    "def Newton3(xn):\n",
    "    x_1 = 0\n",
    "    temp = 0\n",
    "    while (abs(xn - temp) > 10**(-5)):\n",
    "        x_1 = xn - g(xn)/g_prime(xn)\n",
    "        print(x_1 - xn)\n",
    "        temp = xn\n",
    "        xn = x_1\n",
    "    return x_1\n",
    "\n",
    "x = np.linspace(0, 5, 100)\n",
    "y = np.array([g(i) for i in x])\n",
    "plt.plot(x, y)"
   ]
  },
  {
   "cell_type": "code",
   "execution_count": 5,
   "metadata": {},
   "outputs": [
    {
     "name": "stdout",
     "output_type": "stream",
     "text": [
      "-0.17418634617428363\n",
      "-0.09075142793087476\n",
      "-0.04637859528990562\n",
      "-0.02345413447872513\n",
      "-0.011795276887989647\n",
      "-0.00591495733507541\n",
      "-0.002961842785613289\n",
      "-0.0014820167915186033\n",
      "-0.0007412827961088553\n",
      "-0.0003707100672496466\n",
      "-0.00018537220952863365\n",
      "-9.26903993216932e-05\n",
      "-4.634627483657283e-05\n",
      "-2.3173404590348667e-05\n",
      "-1.158676993506802e-05\n",
      "-5.793395361219922e-06\n"
     ]
    },
    {
     "data": {
      "text/plain": [
       "3.141598447009082"
      ]
     },
     "execution_count": 5,
     "metadata": {},
     "output_type": "execute_result"
    }
   ],
   "source": [
    "Newton3(3.5)"
   ]
  },
  {
   "cell_type": "markdown",
   "metadata": {},
   "source": [
    "### Assignment 9"
   ]
  },
  {
   "cell_type": "code",
   "execution_count": 37,
   "metadata": {},
   "outputs": [],
   "source": [
    "def escVal(z_0, c, N):\n",
    "    n = 0\n",
    "    while (abs(z_0) <= 2) & (n <= N):\n",
    "        z_0 = z_0 ** 2 + c\n",
    "        #print(z_0)\n",
    "        n += 1\n",
    "    return n - 1"
   ]
  },
  {
   "cell_type": "code",
   "execution_count": 38,
   "metadata": {},
   "outputs": [],
   "source": [
    "def juliaSet(z_max, c, N):\n",
    "    x = np.linspace(-z_max, z_max, 500).reshape([1, 500])\n",
    "    y = np.linspace(-z_max, z_max, 500).reshape([500, 1])\n",
    "    X, Y = np.meshgrid(x, y)\n",
    "    Z = X + 1j * Y\n",
    "    M = []\n",
    "    a = []\n",
    "    for row in Z:\n",
    "        for element in row:\n",
    "            a.append(escVal(element, c, N))\n",
    "        M.append(a)\n",
    "        a = []\n",
    "    return np.array(M)\n",
    "#Takes a while to run, but it works. Couldn't find a method that does not iterate through all items."
   ]
  },
  {
   "cell_type": "code",
   "execution_count": 39,
   "metadata": {},
   "outputs": [],
   "source": [
    "M = juliaSet(1, -0.297491 + 0.641051j, 100)"
   ]
  },
  {
   "cell_type": "code",
   "execution_count": 40,
   "metadata": {},
   "outputs": [
    {
     "data": {
      "text/plain": [
       "<matplotlib.image.AxesImage at 0x27c6c969310>"
      ]
     },
     "execution_count": 40,
     "metadata": {},
     "output_type": "execute_result"
    },
    {
     "data": {
      "image/png": "[encoded data removed]",
      "text/plain": [
       "<Figure size 432x288 with 1 Axes>"
      ]
     },
     "metadata": {
      "needs_background": "light"
     },
     "output_type": "display_data"
    }
   ],
   "source": [
    "plt.imshow(np.arctan(0.1 * M), origin=\"lower\")"
   ]
  },
  {
   "cell_type": "code",
   "execution_count": null,
   "metadata": {},
   "outputs": [],
   "source": []
  }
 ],
 "metadata": {
  "kernelspec": {
   "display_name": "Python 3",
   "language": "python",
   "name": "python3"
  },
  "language_info": {
   "codemirror_mode": {
    "name": "ipython",
    "version": 3
   },
   "file_extension": ".py",
   "mimetype": "text/x-python",
   "name": "python",
   "nbconvert_exporter": "python",
   "pygments_lexer": "ipython3",
   "version": "3.8.3"
  }
 },
 "nbformat": 4,
 "nbformat_minor": 4
}
